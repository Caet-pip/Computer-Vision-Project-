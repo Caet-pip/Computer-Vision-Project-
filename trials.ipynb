{
 "cells": [
  {
   "cell_type": "code",
   "execution_count": 1,
   "id": "921d287d",
   "metadata": {},
   "outputs": [
    {
     "name": "stdout",
     "output_type": "stream",
     "text": [
      "Collecting git+https://github.com/PrithivirajDamodaran/ZSIC.git\n",
      "  Cloning https://github.com/PrithivirajDamodaran/ZSIC.git to /private/var/folders/vm/3kbc70c10gn36lc36vj2w2rw0000gn/T/pip-req-build-m7w6ob4o\n",
      "  Running command git clone --filter=blob:none --quiet https://github.com/PrithivirajDamodaran/ZSIC.git /private/var/folders/vm/3kbc70c10gn36lc36vj2w2rw0000gn/T/pip-req-build-m7w6ob4o\n",
      "  Resolved https://github.com/PrithivirajDamodaran/ZSIC.git to commit dbd1a8b7db5a7ec7fcab168e818681aa11fd95ca\n",
      "  Preparing metadata (setup.py) ... \u001b[?25ldone\n",
      "\u001b[?25h"
     ]
    }
   ],
   "source": [
    "!pip install git+https://github.com/PrithivirajDamodaran/ZSIC.git"
   ]
  },
  {
   "cell_type": "code",
   "execution_count": 2,
   "id": "82a82be0",
   "metadata": {},
   "outputs": [
    {
     "ename": "SyntaxError",
     "evalue": "invalid syntax (2992934895.py, line 1)",
     "output_type": "error",
     "traceback": [
      "\u001b[0;36m  File \u001b[0;32m\"/var/folders/vm/3kbc70c10gn36lc36vj2w2rw0000gn/T/ipykernel_15887/2992934895.py\"\u001b[0;36m, line \u001b[0;32m1\u001b[0m\n\u001b[0;31m    https://dynaimage.cdn.cnn.com/cnn/q_auto,w_1420,c_fill,g_auto,h_799,ar_16:9/http%3A%2F%2Fcdn.cnn.com%2Fcnnnext%2Fdam%2Fassets%2F190219105655-burberry-noose-hoodie.jpg\u001b[0m\n\u001b[0m          ^\u001b[0m\n\u001b[0;31mSyntaxError\u001b[0m\u001b[0;31m:\u001b[0m invalid syntax\n"
     ]
    }
   ],
   "source": [
    "https://dynaimage.cdn.cnn.com/cnn/q_auto,w_1420,c_fill,g_auto,h_799,ar_16:9/http%3A%2F%2Fcdn.cnn.com%2Fcnnnext%2Fdam%2Fassets%2F190219105655-burberry-noose-hoodie.jpg"
   ]
  },
  {
   "cell_type": "code",
   "execution_count": null,
   "id": "8a33264f",
   "metadata": {},
   "outputs": [],
   "source": [
    "https://img-9gag-fun.9cache.com/photo/6878221_700bwp.webp"
   ]
  },
  {
   "cell_type": "code",
   "execution_count": 62,
   "id": "4f1ba159",
   "metadata": {},
   "outputs": [
    {
     "name": "stdout",
     "output_type": "stream",
     "text": [
      "Loading OpenAI CLIP model ViT-B/32 ...\n",
      "Label language en ...\n",
      "{'image': 'https://img-9gag-fun.9cache.com/photo/6878221_700bwp.webp', 'scores': (0.71949375, 0.28050628), 'labels': ('sad', 'cute')}\n"
     ]
    }
   ],
   "source": [
    "#burberry\n",
    "from ZSIC import ZeroShotImageClassification\n",
    "\n",
    "zsic = ZeroShotImageClassification()\n",
    "\n",
    "\n",
    "#Predictions\n",
    "preds = zsic(image=\"https://img-9gag-fun.9cache.com/photo/6878221_700bwp.webp\",\n",
    "            candidate_labels=[\"cute\",\"sad\"], \n",
    "            )\n",
    "print(preds)"
   ]
  },
  {
   "cell_type": "code",
   "execution_count": 60,
   "id": "4a261679",
   "metadata": {},
   "outputs": [
    {
     "name": "stdout",
     "output_type": "stream",
     "text": [
      "Loading OpenAI CLIP model ViT-B/32 ...\n",
      "Label language en ...\n",
      "{'image': 'https://dynaimage.cdn.cnn.com/cnn/q_auto,w_1420,c_fill,g_auto,h_799,ar_16:9/http%3A%2F%2Fcdn.cnn.com%2Fcnnnext%2Fdam%2Fassets%2F190219105655-burberry-noose-hoodie.jpg', 'scores': (0.6219841, 0.22508904, 0.12885235, 0.024074383), 'labels': ('depressed', 'suicide', 'harm', 'nautical')}\n"
     ]
    }
   ],
   "source": [
    "#burberry\n",
    "from ZSIC import ZeroShotImageClassification\n",
    "\n",
    "zsic = ZeroShotImageClassification()\n",
    "\n",
    "\n",
    "#Predictions\n",
    "preds = zsic(image=\"https://dynaimage.cdn.cnn.com/cnn/q_auto,w_1420,c_fill,g_auto,h_799,ar_16:9/http%3A%2F%2Fcdn.cnn.com%2Fcnnnext%2Fdam%2Fassets%2F190219105655-burberry-noose-hoodie.jpg\",\n",
    "            candidate_labels=[\"harm\",\"suicide\",\"depressed\",\"nautical\"], \n",
    "            )\n",
    "print(preds)"
   ]
  },
  {
   "cell_type": "code",
   "execution_count": 64,
   "id": "9423ef79",
   "metadata": {},
   "outputs": [
    {
     "name": "stdout",
     "output_type": "stream",
     "text": [
      "Loading OpenAI CLIP model ViT-B/32 ...\n",
      "Label language en ...\n",
      "{'image': 'https://jessicaaharrisx.files.wordpress.com/2013/11/20131101-114615.jpg?w=470&zoom=2', 'scores': (0.31306836, 0.2836489, 0.23787022, 0.16541244), 'labels': ('cocaine', 'girl', 'depressed', 'sad')}\n"
     ]
    }
   ],
   "source": [
    "#sad boi\n",
    "from ZSIC import ZeroShotImageClassification\n",
    "\n",
    "zsic = ZeroShotImageClassification()\n",
    "\n",
    "\n",
    "#Predictions\n",
    "preds = zsic(image=\"https://jessicaaharrisx.files.wordpress.com/2013/11/20131101-114615.jpg?w=470&zoom=2\",\n",
    "            candidate_labels=[\"sad\",\"girl\",\"depressed\",\"cocaine\"], \n",
    "            )\n",
    "print(preds)"
   ]
  },
  {
   "cell_type": "code",
   "execution_count": null,
   "id": "2acb0c0c",
   "metadata": {},
   "outputs": [],
   "source": [
    "#sad boi\n",
    "from ZSIC import ZeroShotImageClassification\n",
    "\n",
    "zsic = ZeroShotImageClassification()\n",
    "\n",
    "\n",
    "#Predictions\n",
    "preds = zsic(image=\"https://iskcondwarka.org/blogs/wp-content/uploads/2021/05/Feeling-Sad-for-a-long-time.jpg\",\n",
    "            candidate_labels=[\"sad\",\"boy\",\"girl\",\"depressed\"], \n",
    "            )\n",
    "print(preds)"
   ]
  },
  {
   "cell_type": "code",
   "execution_count": 42,
   "id": "5f6c5c51",
   "metadata": {},
   "outputs": [
    {
     "name": "stdout",
     "output_type": "stream",
     "text": [
      "Loading OpenAI CLIP model ViT-B/32 ...\n",
      "Label language en ...\n",
      "{'image': 'https://iskcondwarka.org/blogs/wp-content/uploads/2021/05/Feeling-Sad-for-a-long-time.jpg', 'scores': (0.45380798, 0.40639687, 0.13352406, 0.006271096), 'labels': ('depressed', 'sad', 'boy', 'girl')}\n"
     ]
    }
   ],
   "source": [
    "#sad boi\n",
    "from ZSIC import ZeroShotImageClassification\n",
    "\n",
    "zsic = ZeroShotImageClassification()\n",
    "\n",
    "\n",
    "#Predictions\n",
    "preds = zsic(image=\"https://iskcondwarka.org/blogs/wp-content/uploads/2021/05/Feeling-Sad-for-a-long-time.jpg\",\n",
    "            candidate_labels=[\"sad\",\"boy\",\"girl\",\"depressed\"], \n",
    "            )\n",
    "print(preds)"
   ]
  },
  {
   "cell_type": "code",
   "execution_count": 20,
   "id": "5d8048ef",
   "metadata": {},
   "outputs": [
    {
     "name": "stdout",
     "output_type": "stream",
     "text": [
      "Loading OpenAI CLIP model ViT-B/32 ...\n",
      "Label language en ...\n",
      "{'image': 'https://nypost.com/wp-content/uploads/sites/2/2022/11/balenciaga-pulls-campaign-443-1.jpg?quality=75&strip=all&w=1535', 'scores': (0.7187417, 0.08920976, 0.073092796, 0.039841026, 0.02380133, 0.023350278, 0.018935762, 0.013027284), 'labels': ('child', 'BDSM', 'serious', 'Bondage', 'happy', 'sad', 'confidence', 'inspiring')}\n"
     ]
    }
   ],
   "source": [
    "#Balenciaga\n",
    "from ZSIC import ZeroShotImageClassification\n",
    "\n",
    "zsic = ZeroShotImageClassification()\n",
    "\n",
    "\n",
    "#Predictions\n",
    "preds = zsic(image=\"https://nypost.com/wp-content/uploads/sites/2/2022/11/balenciaga-pulls-campaign-443-1.jpg?quality=75&strip=all&w=1535\",\n",
    "            candidate_labels=[\"confidence\",\"serious\",\"inspiring\",\"child\", \"sad\", \"BDSM\",\"Bondage\",'happy'], \n",
    "            )\n",
    "print(preds)"
   ]
  },
  {
   "cell_type": "code",
   "execution_count": 17,
   "id": "c27957f0",
   "metadata": {},
   "outputs": [
    {
     "name": "stdout",
     "output_type": "stream",
     "text": [
      "Loading OpenAI CLIP model ViT-B/32 ...\n",
      "Label language en ...\n",
      "{'image': 'https://nypost.com/wp-content/uploads/sites/2/2022/11/balenciaga-pulls-campaign-443-1.jpg?quality=75&strip=all&w=1535', 'scores': (0.38396972, 0.12503247, 0.122663245, 0.122663245, 0.09947299, 0.07776366, 0.06843469), 'labels': ('serious', 'Happy', 'sad', 'Sad', 'confidence', 'eye-opening', 'inspiring')}\n"
     ]
    }
   ],
   "source": [
    "#Balenciaga 2\n",
    "from ZSIC import ZeroShotImageClassification\n",
    "\n",
    "zsic = ZeroShotImageClassification()\n",
    "\n",
    "\n",
    "#Predictions\n",
    "preds = zsic(image=\"https://nypost.com/wp-content/uploads/sites/2/2022/11/balenciaga-pulls-campaign-443-1.jpg?quality=75&strip=all&w=1535\",\n",
    "            candidate_labels=[\"confidence\",\"serious\",\"inspiring\",\"eye-opening\", \"sad\", \"Happy\",\"Sad\"], \n",
    "            )\n",
    "print(preds)"
   ]
  },
  {
   "cell_type": "code",
   "execution_count": null,
   "id": "da80032e",
   "metadata": {},
   "outputs": [],
   "source": [
    "https://s.abcnews.com/images/Business/colin-kaepernick-ad-float-ht-jc-180904_hpMain_4x3_992.jpg"
   ]
  },
  {
   "cell_type": "code",
   "execution_count": 18,
   "id": "0f0be447",
   "metadata": {},
   "outputs": [
    {
     "name": "stdout",
     "output_type": "stream",
     "text": [
      "Loading OpenAI CLIP model ViT-B/32 ...\n",
      "Label language en ...\n",
      "{'image': 'https://s.abcnews.com/images/Business/colin-kaepernick-ad-float-ht-jc-180904_hpMain_4x3_992.jpg', 'scores': (0.48817104, 0.39288917, 0.045614704, 0.044238113, 0.027741592, 0.0013455003), 'labels': ('inspiring', 'eye-opening', 'serious', 'sad', 'confidence', 'happy')}\n"
     ]
    }
   ],
   "source": [
    "#Nike \n",
    "from ZSIC import ZeroShotImageClassification\n",
    "\n",
    "zsic = ZeroShotImageClassification()\n",
    "\n",
    "\n",
    "#Predictions\n",
    "preds = zsic(image=\"https://s.abcnews.com/images/Business/colin-kaepernick-ad-float-ht-jc-180904_hpMain_4x3_992.jpg\",\n",
    "            candidate_labels=[\"confidence\",\"serious\",\"inspiring\",\"eye-opening\", \"sad\",\"happy\"], \n",
    "            )\n",
    "print(preds)"
   ]
  },
  {
   "cell_type": "code",
   "execution_count": null,
   "id": "14545c9e",
   "metadata": {},
   "outputs": [],
   "source": [
    "https://staticg.sportskeeda.com/editor/2022/11/30d77-16693782057635-1920.jpg"
   ]
  },
  {
   "cell_type": "code",
   "execution_count": null,
   "id": "b9c034e2",
   "metadata": {},
   "outputs": [],
   "source": []
  },
  {
   "cell_type": "code",
   "execution_count": null,
   "id": "5b22b3b8",
   "metadata": {},
   "outputs": [],
   "source": []
  }
 ],
 "metadata": {
  "kernelspec": {
   "display_name": "Python 3 (ipykernel)",
   "language": "python",
   "name": "python3"
  },
  "language_info": {
   "codemirror_mode": {
    "name": "ipython",
    "version": 3
   },
   "file_extension": ".py",
   "mimetype": "text/x-python",
   "name": "python",
   "nbconvert_exporter": "python",
   "pygments_lexer": "ipython3",
   "version": "3.9.13"
  }
 },
 "nbformat": 4,
 "nbformat_minor": 5
}
